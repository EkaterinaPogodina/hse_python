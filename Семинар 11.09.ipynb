{
 "cells": [
  {
   "cell_type": "markdown",
   "metadata": {},
   "source": [
    "# Семинар 11.09 (цикл While)"
   ]
  },
  {
   "cell_type": "markdown",
   "metadata": {},
   "source": [
    "## Как это работает"
   ]
  },
  {
   "cell_type": "markdown",
   "metadata": {},
   "source": [
    "Цикл While представляет собой конструкцию, позволяющую выполнять один и тот же заданный блок команд, до тех пор, пока не будет выполнено некоторое условие, заданное программистом"
   ]
  },
  {
   "cell_type": "markdown",
   "metadata": {},
   "source": [
    "#### Можно выделить три составляющие:\n",
    "- Ключевое слово While\n",
    "- Условие, заданное логическим выражением\n",
    "- Последованность команд (блок), выполняемые внутри одного повторения (итерации)"
   ]
  },
  {
   "cell_type": "markdown",
   "metadata": {},
   "source": [
    "#### Примеры условий:"
   ]
  },
  {
   "cell_type": "code",
   "execution_count": 63,
   "metadata": {},
   "outputs": [
    {
     "name": "stdout",
     "output_type": "stream",
     "text": [
      "1\n",
      "2\n",
      "0\n"
     ]
    }
   ],
   "source": [
    "while True:\n",
    "    n = int(input())\n",
    "    if n == 0:\n",
    "        break"
   ]
  },
  {
   "cell_type": "code",
   "execution_count": null,
   "metadata": {},
   "outputs": [],
   "source": [
    "while value > 0:\n",
    "    ..."
   ]
  },
  {
   "cell_type": "code",
   "execution_count": 1,
   "metadata": {},
   "outputs": [
    {
     "name": "stdout",
     "output_type": "stream",
     "text": [
      "('value', 1)\n"
     ]
    }
   ],
   "source": [
    "value = 1\n",
    "while bool(value):\n",
    "    print('value', value)\n",
    "    value = ''"
   ]
  },
  {
   "cell_type": "code",
   "execution_count": 72,
   "metadata": {},
   "outputs": [
    {
     "data": {
      "text/plain": [
       "True"
      ]
     },
     "execution_count": 72,
     "metadata": {},
     "output_type": "execute_result"
    }
   ],
   "source": [
    "value = 0.01\n",
    "bool(value)"
   ]
  },
  {
   "cell_type": "markdown",
   "metadata": {},
   "source": [
    "#### Примеры блоков команд:"
   ]
  },
  {
   "cell_type": "code",
   "execution_count": 2,
   "metadata": {},
   "outputs": [
    {
     "name": "stdout",
     "output_type": "stream",
     "text": [
      "('current value is', 3)\n"
     ]
    }
   ],
   "source": [
    "value = 0\n",
    "while value < 3:\n",
    "    value += 1\n",
    "    \n",
    "print('current value is', value)"
   ]
  },
  {
   "cell_type": "code",
   "execution_count": 3,
   "metadata": {},
   "outputs": [],
   "source": [
    "value = 0\n",
    "\n",
    "while value: # == while value !=0\n",
    "    value += 1\n",
    "    print('current value is', value)"
   ]
  },
  {
   "cell_type": "code",
   "execution_count": 75,
   "metadata": {},
   "outputs": [
    {
     "name": "stdout",
     "output_type": "stream",
     "text": [
      "('current value is', 8)\n",
      "('current value is', 6)\n",
      "('current value is', 4)\n",
      "('current value is', 2)\n",
      "('current value is', 0)\n"
     ]
    }
   ],
   "source": [
    "#Распространенный пример использования (особенно когда value является какой-то структурой и мы ее очищаем)\n",
    "\n",
    "value = 10\n",
    "while value: # == while value !=0\n",
    "    value -= 2\n",
    "    print('current value is', value)"
   ]
  },
  {
   "cell_type": "markdown",
   "metadata": {},
   "source": [
    "#### Инструкция break"
   ]
  },
  {
   "cell_type": "code",
   "execution_count": 17,
   "metadata": {},
   "outputs": [],
   "source": [
    "#break позволяет прервать исполнения цикла в момент, когда программа дойдет до этой инструкции"
   ]
  },
  {
   "cell_type": "code",
   "execution_count": 4,
   "metadata": {},
   "outputs": [
    {
     "name": "stdout",
     "output_type": "stream",
     "text": [
      "('current value is', 15)\n",
      "('current value is', 20)\n",
      "('current value is', 25)\n",
      "('current value is', 30)\n",
      "('current value is', 35)\n",
      "('current value is', 40)\n",
      "('current value is', 45)\n",
      "('current value is', 50)\n",
      "('current value is', 55)\n",
      "('current value is', 60)\n",
      "('current value is', 65)\n",
      "('current value is', 70)\n",
      "('current value is', 75)\n",
      "('current value is', 80)\n",
      "('current value is', 85)\n",
      "('current value is', 90)\n",
      "('current value is', 95)\n",
      "('current value is', 100)\n"
     ]
    }
   ],
   "source": [
    "value = 10\n",
    "while value:\n",
    "    value += 5\n",
    "    if value > 100:\n",
    "        break\n",
    "\n",
    "    print('current value is', value)"
   ]
  },
  {
   "cell_type": "code",
   "execution_count": 5,
   "metadata": {},
   "outputs": [
    {
     "name": "stdout",
     "output_type": "stream",
     "text": [
      "('current value is', 35)\n",
      "('current value is', 60)\n",
      "('current value is', 85)\n",
      "('current value is', 110)\n",
      "('current value is', 135)\n"
     ]
    }
   ],
   "source": [
    "value = 10\n",
    "while value:\n",
    "    value += 25\n",
    "    if value > 100:\n",
    "        if value > 155:\n",
    "            break\n",
    "    \n",
    "    print('current value is', value)"
   ]
  },
  {
   "cell_type": "code",
   "execution_count": 9,
   "metadata": {},
   "outputs": [
    {
     "name": "stdout",
     "output_type": "stream",
     "text": [
      "('current value for first cycle is', 20)\n",
      "('current value for second cycle is', 41)\n",
      "('current value for first cycle is', 30)\n",
      "('current value for second cycle is', 41)\n",
      "('current value for first cycle is', 40)\n",
      "('current value for second cycle is', 41)\n",
      "('current value for first cycle is', 50)\n",
      "('current value for second cycle is', 41)\n",
      "('current value for first cycle is', 60)\n",
      "('current value for second cycle is', 41)\n",
      "('current value for first cycle is', 70)\n",
      "('current value for second cycle is', 41)\n",
      "('current value for first cycle is', 80)\n",
      "('current value for second cycle is', 41)\n",
      "('current value for first cycle is', 90)\n",
      "('current value for second cycle is', 41)\n",
      "('current value for first cycle is', 100)\n",
      "('current value for second cycle is', 41)\n"
     ]
    }
   ],
   "source": [
    "value_first_cycle = 10\n",
    "value_second_cycle = 0\n",
    "\n",
    "while value_first_cycle < 100:\n",
    "    value_first_cycle += 10\n",
    "\n",
    "    while value_second_cycle < 50: # == value_second_cycle != 0\n",
    "        if value_second_cycle > 40:\n",
    "            break\n",
    "        value_second_cycle += 1\n",
    "\n",
    "    print('current value for first cycle is', value_first_cycle)\n",
    "    print('current value for second cycle is', value_second_cycle)"
   ]
  },
  {
   "cell_type": "code",
   "execution_count": 10,
   "metadata": {},
   "outputs": [],
   "source": [
    "value = 10\n",
    "while value < 300:\n",
    "    break\n",
    "    print('current value is', value)"
   ]
  },
  {
   "cell_type": "markdown",
   "metadata": {},
   "source": []
  },
  {
   "cell_type": "code",
   "execution_count": 11,
   "metadata": {},
   "outputs": [
    {
     "name": "stdout",
     "output_type": "stream",
     "text": [
      "('current value is', 11)\n",
      "('current value is', 12)\n",
      "('current value is', 13)\n",
      "('current value is', 14)\n",
      "('current value is', 15)\n",
      "('current value is', 16)\n"
     ]
    }
   ],
   "source": [
    "#Если событие задается логическим выражением, лучше вынести его в выражение после слова \"while\":\n",
    "\n",
    "#Плохо:\n",
    "value = 10\n",
    "while True:\n",
    "    if value > 15:\n",
    "        break\n",
    "    value += 1\n",
    "    print('current value is', value)"
   ]
  },
  {
   "cell_type": "code",
   "execution_count": 12,
   "metadata": {},
   "outputs": [
    {
     "name": "stdout",
     "output_type": "stream",
     "text": [
      "('current value is', 11)\n",
      "('current value is', 12)\n",
      "('current value is', 13)\n",
      "('current value is', 14)\n",
      "('current value is', 15)\n",
      "('current value is', 16)\n"
     ]
    }
   ],
   "source": [
    "#Хорошо:\n",
    "value = 10\n",
    "while value <= 15:\n",
    "    value += 1\n",
    "    print('current value is', value)"
   ]
  },
  {
   "cell_type": "code",
   "execution_count": 13,
   "metadata": {},
   "outputs": [
    {
     "name": "stdout",
     "output_type": "stream",
     "text": [
      "current first is 11, second is 26\n",
      "current first is 12, second is 27\n",
      "current first is 13, second is 28\n",
      "current first is 14, second is 29\n",
      "current first is 15, second is 30\n"
     ]
    }
   ],
   "source": [
    "#Плохо\n",
    "first = 10\n",
    "second = 25\n",
    "while first < 15:\n",
    "    if not second % 15:\n",
    "        break\n",
    "    first += 1\n",
    "    second += 1\n",
    "    print('current first is {}, second is {}'.format(first, second))"
   ]
  },
  {
   "cell_type": "code",
   "execution_count": 14,
   "metadata": {},
   "outputs": [
    {
     "name": "stdout",
     "output_type": "stream",
     "text": [
      "current first is 11, second is 26\n",
      "current first is 12, second is 27\n",
      "current first is 13, second is 28\n",
      "current first is 14, second is 29\n",
      "current first is 15, second is 30\n"
     ]
    }
   ],
   "source": [
    "#Хорошо\n",
    "first = 10\n",
    "second = 25\n",
    "while first < 15 and second % 15:\n",
    "    first += 1\n",
    "    second += 1\n",
    "    print('current first is {}, second is {}'.format(first, second))"
   ]
  },
  {
   "cell_type": "markdown",
   "metadata": {},
   "source": [
    "Пример хороших использований break: \n",
    "- произошло событие, которое позволяет досрочно завершить цикл и его сложно представить в виде логического выражения\n",
    "- условий для окончания цикла слишком много\n",
    "- хотим сэкономить время исполнения программы"
   ]
  },
  {
   "cell_type": "code",
   "execution_count": 87,
   "metadata": {},
   "outputs": [
    {
     "name": "stdout",
     "output_type": "stream",
     "text": [
      "1\n",
      "('input:', 1)\n",
      "2\n",
      "('input:', 2)\n",
      "3\n",
      "('input:', 3)\n",
      "0\n",
      "('input:', 0)\n",
      "end of input\n"
     ]
    }
   ],
   "source": [
    "while True:\n",
    "    n = int(input())\n",
    "    print('input:', n)\n",
    "    \n",
    "    if not n: ## n == 0\n",
    "        print('end of input')\n",
    "        break"
   ]
  },
  {
   "cell_type": "markdown",
   "metadata": {},
   "source": [
    "#### Инструкция continue"
   ]
  },
  {
   "cell_type": "markdown",
   "metadata": {},
   "source": [
    "Если программа встречает слово continue во время исполнения блока команд внутри цикла while, программа переходит к выполнению новой итерации цикла"
   ]
  },
  {
   "cell_type": "code",
   "execution_count": 41,
   "metadata": {},
   "outputs": [
    {
     "name": "stdout",
     "output_type": "stream",
     "text": [
      "('value:', 1)\n",
      "('value:', 3)\n",
      "('value:', 5)\n",
      "('value:', 7)\n",
      "('value:', 9)\n"
     ]
    }
   ],
   "source": [
    "value = 0\n",
    "while value < 10:\n",
    "    value += 1\n",
    "    if value % 2 == 0:\n",
    "        continue\n",
    "        \n",
    "    print('value:', value)\n",
    "    value += 1"
   ]
  },
  {
   "cell_type": "code",
   "execution_count": 43,
   "metadata": {},
   "outputs": [
    {
     "name": "stdout",
     "output_type": "stream",
     "text": [
      "('value:', 1)\n",
      "('value:', 3)\n",
      "('value:', 5)\n",
      "('value:', 7)\n",
      "('value:', 9)\n"
     ]
    }
   ],
   "source": [
    "value = 0\n",
    "\n",
    "while value < 10:\n",
    "    print('value:', value + 1)\n",
    "    value += 2"
   ]
  },
  {
   "cell_type": "code",
   "execution_count": 88,
   "metadata": {},
   "outputs": [
    {
     "name": "stdout",
     "output_type": "stream",
     "text": [
      "('value:', 2)\n",
      "('value:', 3)\n",
      "('value:', 4)\n",
      "('value:', 8)\n",
      "('value:', 9)\n",
      "('value:', 10)\n"
     ]
    }
   ],
   "source": [
    "#Задача: хотим вывести все числа, которые делятся на 2 и на 3, но не делятся на 6, не превосходящие n\n",
    "\n",
    "value = 0\n",
    "n = 10\n",
    "\n",
    "while value <= n:\n",
    "    value += 1\n",
    "    if not value % 6: # value % 6 == 0\n",
    "        continue\n",
    "\n",
    "    if not value % 2:\n",
    "        print('value:', value)\n",
    "        continue\n",
    "    \n",
    "    if not value % 3:\n",
    "        print('value:', value)\n",
    "        continue"
   ]
  },
  {
   "cell_type": "code",
   "execution_count": 48,
   "metadata": {},
   "outputs": [
    {
     "name": "stdout",
     "output_type": "stream",
     "text": [
      "('value:', 2)\n",
      "('value:', 3)\n",
      "('value:', 4)\n",
      "('value:', 8)\n",
      "('value:', 9)\n",
      "('value:', 10)\n"
     ]
    }
   ],
   "source": [
    "value = 0\n",
    "n = 10\n",
    "\n",
    "while value <= n:\n",
    "    value += 1\n",
    "    if not value % 6:\n",
    "        continue\n",
    "\n",
    "    if not value % 2:\n",
    "        print('value:', value)\n",
    "    \n",
    "    if not value % 3:\n",
    "        print('value:', value)"
   ]
  },
  {
   "cell_type": "code",
   "execution_count": 49,
   "metadata": {},
   "outputs": [
    {
     "name": "stdout",
     "output_type": "stream",
     "text": [
      "('value:', 2)\n",
      "('value:', 3)\n",
      "('value:', 4)\n",
      "('value:', 8)\n",
      "('value:', 9)\n",
      "('value:', 10)\n"
     ]
    }
   ],
   "source": [
    "value = 0\n",
    "n = 10\n",
    "\n",
    "while value <= n:\n",
    "    value += 1\n",
    "    if value % 6:\n",
    "        if not value % 2:\n",
    "            print('value:', value)\n",
    "    \n",
    "        if not value % 3:\n",
    "            print('value:', value)"
   ]
  },
  {
   "cell_type": "code",
   "execution_count": 50,
   "metadata": {},
   "outputs": [
    {
     "name": "stdout",
     "output_type": "stream",
     "text": [
      "('value:', 2)\n",
      "('value:', 3)\n",
      "('value:', 4)\n",
      "('value:', 8)\n",
      "('value:', 9)\n",
      "('value:', 10)\n"
     ]
    }
   ],
   "source": [
    "value = 0\n",
    "n = 10\n",
    "\n",
    "while value <= n:\n",
    "    value += 1\n",
    "    if value % 6:\n",
    "        if not value % 2:\n",
    "            print('value:', value)\n",
    "        elif not value % 3:\n",
    "            print('value:', value)"
   ]
  },
  {
   "cell_type": "code",
   "execution_count": 97,
   "metadata": {},
   "outputs": [
    {
     "name": "stdout",
     "output_type": "stream",
     "text": [
      "end\n"
     ]
    }
   ],
   "source": [
    "# while else (так же работает и с for else)\n",
    "value = 0\n",
    "while value != 5: #and value < 10:\n",
    "    value += 1\n",
    "    if value == 3:\n",
    "        continue\n",
    "        print(0 // 0)\n",
    "        break\n",
    "else:\n",
    "    value += 10\n",
    "    print('end')\n",
    "    \n",
    "# print('value', value)"
   ]
  },
  {
   "cell_type": "markdown",
   "metadata": {},
   "source": [
    "### Домашнее задание 3"
   ]
  },
  {
   "cell_type": "markdown",
   "metadata": {},
   "source": [
    "Задачи на ревью:\n",
    "\n",
    "- V. Максимальная длина монотонного фрагмента\n",
    "- W. Наименьшее расстояние между локальными максимумами"
   ]
  },
  {
   "cell_type": "markdown",
   "metadata": {},
   "source": [
    "Буду проверять на:\n",
    "- style guide (семинар 08.09)\n",
    "- отсутствие сложной логики / нагромождений / 'чистоту'\n",
    "\n",
    "P.S. Все это всегда субъективно"
   ]
  },
  {
   "cell_type": "code",
   "execution_count": 8,
   "metadata": {},
   "outputs": [],
   "source": [
    "# https://leetcode.com/problemset/algorithms/"
   ]
  },
  {
   "cell_type": "markdown",
   "metadata": {},
   "source": [
    "На что смотрят при решении задачи на собеседовании:\n",
    "    - Проверка крайних случаев\n",
    "    - Простота кода\n",
    "    - Читаемость\n",
    "    \n",
    "Задача V\n",
    "\n",
    "#### Задайте себе вопросы:\n",
    "    - А можно ли объединить логику из нескольких if\n",
    "    - А рассмотрел ли я случай когда числа равны?\n",
    "    - А что если число на входе 1? 2?\n",
    "    \n",
    "Задача W\n",
    "\n",
    "#### Задайте себе вопросы:\n",
    "    - А можно ли объединить логику из нескольких if\n",
    "    - А рассмотрел ли я случай когда нет локальных максимумов или недостаточное количество чисел?\n",
    "    - А что если число локальных максимумов больше 2?\n",
    "\n"
   ]
  },
  {
   "cell_type": "markdown",
   "metadata": {},
   "source": [
    "### Домашнее задание 2"
   ]
  },
  {
   "cell_type": "markdown",
   "metadata": {},
   "source": [
    "#### Философия if else"
   ]
  },
  {
   "cell_type": "markdown",
   "metadata": {},
   "source": [
    "Условный оператор позволяет решить много задач, однако его \"переиспользование\" может приводить к большому количеству ошибок и уменьшить читаемость кода"
   ]
  },
  {
   "cell_type": "markdown",
   "metadata": {},
   "source": [
    "Пример: нужно понять ... (догадайтесь что делала задача) \n",
    "\n",
    "Ответ: программа выводит YES, если один из отрезков вложен в другой, NO - в противном случае"
   ]
  },
  {
   "cell_type": "code",
   "execution_count": 15,
   "metadata": {},
   "outputs": [
    {
     "name": "stdout",
     "output_type": "stream",
     "text": [
      "1\n",
      "2\n",
      "3\n",
      "4\n",
      "('answer:', 'YES')\n"
     ]
    }
   ],
   "source": [
    "# Спойлер - нельзя так называть переменные! \n",
    "# UPD: решение заведомо неверное, нужно было найти ошибку\n",
    "l1 = int(input())\n",
    "l2 = int(input())\n",
    "l3 = int(input())\n",
    "l4 = int(input())\n",
    "\n",
    "# answer = 'unknown'\n",
    "\n",
    "if l1 >= l3:\n",
    "    if l2 <= l4:\n",
    "        answer = 'YES'\n",
    "    else:\n",
    "        answer = 'NO'\n",
    "elif l4 >= l2:\n",
    "    answer = 'YES'\n",
    "else:\n",
    "    answer = 'NO'\n",
    "\n",
    "print('answer:', answer)"
   ]
  },
  {
   "cell_type": "code",
   "execution_count": 103,
   "metadata": {},
   "outputs": [
    {
     "name": "stdout",
     "output_type": "stream",
     "text": [
      "1\n",
      "1\n",
      "1\n",
      "1\n",
      "('answer:', 'YES')\n"
     ]
    }
   ],
   "source": [
    "# Более аккуратно\n",
    "x1 = int(input())\n",
    "y1 = int(input())\n",
    "x2 = int(input())\n",
    "y2 = int(input())\n",
    "\n",
    "answer = 'NO'\n",
    "\n",
    "if x1 <= x2 and y1 >= y2:\n",
    "    answer = 'YES'\n",
    "elif x2 <= x1 and y2 >= y1:\n",
    "    answer = 'YES'\n",
    "print('answer:', answer)"
   ]
  },
  {
   "cell_type": "code",
   "execution_count": null,
   "metadata": {},
   "outputs": [],
   "source": [
    "# А если так?\n",
    "x1 = int(input())\n",
    "y1 = int(input())\n",
    "x2 = int(input())\n",
    "y2 = int(input())\n",
    "\n",
    "answer = 'NO'\n",
    "# if x1 > x2:\n",
    "#     ...\n",
    "\n",
    "if x1 <= x2 and y1 >= y2:\n",
    "    ...\n",
    "\n",
    "print('answer:', answer)"
   ]
  },
  {
   "cell_type": "code",
   "execution_count": null,
   "metadata": {},
   "outputs": [],
   "source": [
    "1 2 0 4 -> YES\n",
    "0 4 1 2 -> YES\n",
    "1 3 2 4 \n",
    "2 4 1 3"
   ]
  },
  {
   "cell_type": "markdown",
   "metadata": {},
   "source": [
    "### Задача из домашки - отсортировать 3 числа"
   ]
  },
  {
   "cell_type": "code",
   "execution_count": 16,
   "metadata": {},
   "outputs": [
    {
     "name": "stdout",
     "output_type": "stream",
     "text": [
      "2\n",
      "3\n",
      "1\n",
      "(1, 2, 3)\n"
     ]
    }
   ],
   "source": [
    "# Пример длинного кода, который можно \"причесать\"\n",
    "a = int(input())\n",
    "b = int(input())\n",
    "c = int(input())\n",
    "\n",
    "if c >= a:\n",
    "    if c >= b:\n",
    "        if a >= b:\n",
    "            print(b, a, c)\n",
    "        else:\n",
    "            print(a, b, c)\n",
    "    else:\n",
    "        print(a, c, b) \n",
    "else:\n",
    "    if a >= b:\n",
    "        if c >= b:\n",
    "            print(b, c, a)\n",
    "        else:\n",
    "            print(c, b, a)\n",
    "    else:\n",
    "        print(c, a, b)"
   ]
  },
  {
   "cell_type": "code",
   "execution_count": 119,
   "metadata": {},
   "outputs": [
    {
     "name": "stdout",
     "output_type": "stream",
     "text": [
      "3\n",
      "1\n",
      "2\n",
      "(1, 2, 3)\n"
     ]
    }
   ],
   "source": [
    "# Как мы упростили в итоге\n",
    "a = int(input())\n",
    "b = int(input())\n",
    "c = int(input())\n",
    "\n",
    "if c < a:\n",
    "    a, c = c, a\n",
    "if c < b:\n",
    "    c, b = b, c\n",
    "if a > b:\n",
    "    a, b = b, a\n",
    "\n",
    "print(a, b, c)"
   ]
  },
  {
   "cell_type": "markdown",
   "metadata": {},
   "source": [
    "### Как мы рассуждали"
   ]
  },
  {
   "cell_type": "code",
   "execution_count": 17,
   "metadata": {},
   "outputs": [],
   "source": [
    "# Давайте представим, что всегда c >= a (работаем в первой ветке)"
   ]
  },
  {
   "cell_type": "code",
   "execution_count": null,
   "metadata": {},
   "outputs": [],
   "source": [
    "a = int(input())\n",
    "b = int(input())\n",
    "c = int(input())\n",
    "\n",
    "if c >= a:\n",
    "    if c > b:\n",
    "        if a > b:\n",
    "            a, b = b, a\n",
    "    else:\n",
    "        b, c = c, b\n",
    "    print(a, b, c) \n",
    "# else:\n",
    "#     if a >= b:\n",
    "#         if c >= b:\n",
    "#             print(b, c, a)\n",
    "#         else:\n",
    "#             print(c, b, a)\n",
    "#     else:\n",
    "#         print(c, a, b)"
   ]
  },
  {
   "cell_type": "code",
   "execution_count": null,
   "metadata": {},
   "outputs": [],
   "source": [
    "# Теперь давайте посмотрим в чем различие двух условий"
   ]
  },
  {
   "cell_type": "code",
   "execution_count": 42,
   "metadata": {},
   "outputs": [
    {
     "name": "stdout",
     "output_type": "stream",
     "text": [
      "2\n",
      "3\n",
      "1\n",
      "(1, 2, 3)\n"
     ]
    }
   ],
   "source": [
    "a = int(input())\n",
    "b = int(input())\n",
    "c = int(input())\n",
    "\n",
    "if a > c:\n",
    "    a, c = c, a # решаем ту же самую задачу\n",
    "# Теперь у нас всегда с >= a == True\n",
    "if b > c:\n",
    "    b, c = c, b\n",
    "elif a > b:\n",
    "    a, b = b, a\n",
    "\n",
    "print(a, b, c)    "
   ]
  },
  {
   "cell_type": "code",
   "execution_count": null,
   "metadata": {},
   "outputs": [],
   "source": [
    "1 2 3\n",
    "1 3 2\n",
    "3 2 1\n",
    "3 1 2\n",
    "2 1 3\n",
    "2 3 1"
   ]
  }
 ],
 "metadata": {
  "kernelspec": {
   "display_name": "Python 2",
   "language": "python",
   "name": "python2"
  },
  "language_info": {
   "codemirror_mode": {
    "name": "ipython",
    "version": 2
   },
   "file_extension": ".py",
   "mimetype": "text/x-python",
   "name": "python",
   "nbconvert_exporter": "python",
   "pygments_lexer": "ipython2",
   "version": "2.7.17"
  }
 },
 "nbformat": 4,
 "nbformat_minor": 2
}
